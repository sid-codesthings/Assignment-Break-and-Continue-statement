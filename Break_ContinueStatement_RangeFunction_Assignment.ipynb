{
 "cells": [
  {
   "cell_type": "code",
   "execution_count": 4,
   "id": "5393206a-adb0-4633-b7f3-59e3dd5010dc",
   "metadata": {},
   "outputs": [
    {
     "name": "stdout",
     "output_type": "stream",
     "text": [
      "1 2 3 4 "
     ]
    }
   ],
   "source": [
    "# 1.Write a program to print numbers from 1 to 10, but stop if the number is 5.\n",
    "\n",
    "for i in range(1,11):\n",
    "    if i == 5:\n",
    "        break\n",
    "    print(i,end=\" \")"
   ]
  },
  {
   "cell_type": "code",
   "execution_count": 5,
   "id": "1eef2fc3-d846-4e61-b971-eafc1d88b8c2",
   "metadata": {},
   "outputs": [
    {
     "name": "stdout",
     "output_type": "stream",
     "text": [
      "1 sid 2 a "
     ]
    }
   ],
   "source": [
    "# 2. Write a program to iterate through a list and stop when \n",
    "# encountering a specific element.\n",
    "\n",
    "l = [1,'sid',2,\"a\",\"b\",99,100]\n",
    "\n",
    "# lets stop iterating if element is \"b\"\n",
    "\n",
    "for i in l :\n",
    "    if i == \"b\":\n",
    "        break\n",
    "    print(i,end=\" \")"
   ]
  },
  {
   "cell_type": "code",
   "execution_count": 7,
   "id": "077adb5f-3191-4ee1-8676-e3e9e2577dd6",
   "metadata": {},
   "outputs": [
    {
     "name": "stdout",
     "output_type": "stream",
     "text": [
      "1 3 5 7 9 "
     ]
    }
   ],
   "source": [
    "# 3.Write a program to skip printing even numbers from 1 to 10.\n",
    "\n",
    "for i in range(1,11):\n",
    "    if i%2 == 0 :\n",
    "        continue\n",
    "    print(i,end=\" \")"
   ]
  },
  {
   "cell_type": "code",
   "execution_count": 9,
   "id": "20712536-3a81-425a-8051-51720cae02a4",
   "metadata": {},
   "outputs": [
    {
     "name": "stdout",
     "output_type": "stream",
     "text": [
      "0 1 2 3 4 5 6 7 8 9 "
     ]
    }
   ],
   "source": [
    "# 4.Write a program to print numbers from 0 to 9 using range().\n",
    "\n",
    "for i in range(10):\n",
    "    print(i,end=\" \")"
   ]
  },
  {
   "cell_type": "code",
   "execution_count": 10,
   "id": "5ee3d85c-1f1e-493f-8753-bb4d342744df",
   "metadata": {},
   "outputs": [
    {
     "name": "stdout",
     "output_type": "stream",
     "text": [
      "1 x 1 = 1\n",
      "2 x 1 = 2\n",
      "3 x 1 = 3\n",
      "4 x 1 = 4\n",
      "5 x 1 = 5\n"
     ]
    }
   ],
   "source": [
    "# 5.Write a program to print multiplication tables from 1 to 5, but \n",
    "# stop after the first table is printed for each number.\n",
    "\n",
    "for i in range(1,6):\n",
    "    for j in range(1,6):\n",
    "        if j != 1 :\n",
    "            continue\n",
    "        print(i , \"x\" , j , \"=\" , i*j)"
   ]
  },
  {
   "cell_type": "code",
   "execution_count": 16,
   "id": "af4901fc-6851-4de2-867e-a18c507e1bbb",
   "metadata": {},
   "outputs": [
    {
     "name": "stdout",
     "output_type": "stream",
     "text": [
      "1 3 5 7 9 11 "
     ]
    }
   ],
   "source": [
    "# 6.Write a program to skip printing even numbers using a while loop.\n",
    "\n",
    "i = 0\n",
    "while(i <= 11):\n",
    "    i+=1\n",
    "    if (i % 2) == 0:\n",
    "        continue\n",
    "    print(i,end=\" \")   "
   ]
  },
  {
   "cell_type": "code",
   "execution_count": null,
   "id": "6c9a9fe4-b322-4438-ad8e-b6a22c808e05",
   "metadata": {},
   "outputs": [],
   "source": []
  }
 ],
 "metadata": {
  "kernelspec": {
   "display_name": "Python 3 (ipykernel)",
   "language": "python",
   "name": "python3"
  },
  "language_info": {
   "codemirror_mode": {
    "name": "ipython",
    "version": 3
   },
   "file_extension": ".py",
   "mimetype": "text/x-python",
   "name": "python",
   "nbconvert_exporter": "python",
   "pygments_lexer": "ipython3",
   "version": "3.10.8"
  }
 },
 "nbformat": 4,
 "nbformat_minor": 5
}
